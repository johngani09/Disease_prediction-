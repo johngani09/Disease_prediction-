{
 "cells": [
  {
   "cell_type": "code",
   "execution_count": 1,
   "id": "e7756967",
   "metadata": {},
   "outputs": [],
   "source": [
    "import warnings\n",
    "warnings.filterwarnings(\"ignore\")\n",
    "import numpy as np\n",
    "import pandas as pd\n",
    "dt=pd.read_csv('dataset.csv')\n",
    "dt['Disease']= dt['Disease'].str.split().str.get(0).str.replace('(','')\n",
    "dt['Disease']= dt['Disease'].str.split().str.get(0).str.replace(')','')\n",
    "dt['Symptom_1']= dt['Symptom_1'].str.split().str.get(0).str.replace('_',' ')\n",
    "dt['Symptom_2']= dt['Symptom_2'].str.split().str.get(0).str.replace('_',' ')\n",
    "dt['Symptom_3']= dt['Symptom_3'].str.split().str.get(0).str.replace('_',' ')\n",
    "dt['Symptom_4']= dt['Symptom_4'].str.split().str.get(0).str.replace('_',' ')\n",
    "dt['Symptom_5']= dt['Symptom_5'].str.split().str.get(0).str.replace('_',' ')\n",
    "dt['Symptom_6']= dt['Symptom_6'].str.split().str.get(0).str.replace('_',' ')"
   ]
  },
  {
   "cell_type": "code",
   "execution_count": 2,
   "id": "e783a4e1",
   "metadata": {},
   "outputs": [],
   "source": [
    "dt['Disease']=(dt['Disease'].str.capitalize())"
   ]
  },
  {
   "cell_type": "code",
   "execution_count": 3,
   "id": "1a1bd3c8",
   "metadata": {},
   "outputs": [],
   "source": [
    "dt=dt.sort_values(by='Disease')\n",
    "dt=dt.drop('Symptom_7',axis=1)\n",
    "dt=dt.drop('Symptom_8',axis=1)\n",
    "dt=dt.drop('Symptom_9',axis=1)\n",
    "dt=dt.drop('Symptom_10',axis=1)\n",
    "dt=dt.drop('Symptom_11',axis=1)\n",
    "dt=dt.drop('Symptom_12',axis=1)\n",
    "dt=dt.drop('Symptom_13',axis=1)\n",
    "dt=dt.drop('Symptom_14',axis=1)\n",
    "dt=dt.drop('Symptom_15',axis=1)\n",
    "dt=dt.drop('Symptom_16',axis=1)\n",
    "dt=dt.drop('Symptom_17',axis=1)\n"
   ]
  },
  {
   "cell_type": "code",
   "execution_count": 4,
   "id": "7fb86c7f",
   "metadata": {},
   "outputs": [
    {
     "data": {
      "text/html": [
       "<div>\n",
       "<style scoped>\n",
       "    .dataframe tbody tr th:only-of-type {\n",
       "        vertical-align: middle;\n",
       "    }\n",
       "\n",
       "    .dataframe tbody tr th {\n",
       "        vertical-align: top;\n",
       "    }\n",
       "\n",
       "    .dataframe thead th {\n",
       "        text-align: right;\n",
       "    }\n",
       "</style>\n",
       "<table border=\"1\" class=\"dataframe\">\n",
       "  <thead>\n",
       "    <tr style=\"text-align: right;\">\n",
       "      <th></th>\n",
       "      <th>Unnamed: 0</th>\n",
       "      <th>Disease</th>\n",
       "      <th>Symptom_1</th>\n",
       "      <th>Symptom_2</th>\n",
       "      <th>Symptom_3</th>\n",
       "      <th>Symptom_4</th>\n",
       "      <th>Symptom_5</th>\n",
       "      <th>Symptom_6</th>\n",
       "    </tr>\n",
       "  </thead>\n",
       "  <tbody>\n",
       "    <tr>\n",
       "      <th>0</th>\n",
       "      <td>786</td>\n",
       "      <td>Acne</td>\n",
       "      <td>skin rash</td>\n",
       "      <td>pus filled pimples</td>\n",
       "      <td>blackheads</td>\n",
       "      <td>scurring</td>\n",
       "      <td>NaN</td>\n",
       "      <td>NaN</td>\n",
       "    </tr>\n",
       "    <tr>\n",
       "      <th>1</th>\n",
       "      <td>2422</td>\n",
       "      <td>Acne</td>\n",
       "      <td>pus filled pimples</td>\n",
       "      <td>blackheads</td>\n",
       "      <td>scurring</td>\n",
       "      <td>NaN</td>\n",
       "      <td>NaN</td>\n",
       "      <td>NaN</td>\n",
       "    </tr>\n",
       "    <tr>\n",
       "      <th>2</th>\n",
       "      <td>2423</td>\n",
       "      <td>Acne</td>\n",
       "      <td>skin rash</td>\n",
       "      <td>blackheads</td>\n",
       "      <td>scurring</td>\n",
       "      <td>NaN</td>\n",
       "      <td>NaN</td>\n",
       "      <td>NaN</td>\n",
       "    </tr>\n",
       "    <tr>\n",
       "      <th>3</th>\n",
       "      <td>2424</td>\n",
       "      <td>Acne</td>\n",
       "      <td>skin rash</td>\n",
       "      <td>pus filled pimples</td>\n",
       "      <td>scurring</td>\n",
       "      <td>NaN</td>\n",
       "      <td>NaN</td>\n",
       "      <td>NaN</td>\n",
       "    </tr>\n",
       "    <tr>\n",
       "      <th>4</th>\n",
       "      <td>2425</td>\n",
       "      <td>Acne</td>\n",
       "      <td>skin rash</td>\n",
       "      <td>pus filled pimples</td>\n",
       "      <td>blackheads</td>\n",
       "      <td>NaN</td>\n",
       "      <td>NaN</td>\n",
       "      <td>NaN</td>\n",
       "    </tr>\n",
       "  </tbody>\n",
       "</table>\n",
       "</div>"
      ],
      "text/plain": [
       "   Unnamed: 0 Disease           Symptom_1           Symptom_2   Symptom_3  \\\n",
       "0         786    Acne           skin rash  pus filled pimples  blackheads   \n",
       "1        2422    Acne  pus filled pimples          blackheads    scurring   \n",
       "2        2423    Acne           skin rash          blackheads    scurring   \n",
       "3        2424    Acne           skin rash  pus filled pimples    scurring   \n",
       "4        2425    Acne           skin rash  pus filled pimples  blackheads   \n",
       "\n",
       "  Symptom_4 Symptom_5 Symptom_6  \n",
       "0  scurring       NaN       NaN  \n",
       "1       NaN       NaN       NaN  \n",
       "2       NaN       NaN       NaN  \n",
       "3       NaN       NaN       NaN  \n",
       "4       NaN       NaN       NaN  "
      ]
     },
     "execution_count": 4,
     "metadata": {},
     "output_type": "execute_result"
    }
   ],
   "source": [
    "dt.to_csv('Dataset_final1.csv')\n",
    "dt=pd.read_csv('Dataset_final1.csv')\n",
    "dt.head()"
   ]
  },
  {
   "cell_type": "code",
   "execution_count": 5,
   "id": "c7055ccf",
   "metadata": {},
   "outputs": [
    {
     "data": {
      "text/html": [
       "<div>\n",
       "<style scoped>\n",
       "    .dataframe tbody tr th:only-of-type {\n",
       "        vertical-align: middle;\n",
       "    }\n",
       "\n",
       "    .dataframe tbody tr th {\n",
       "        vertical-align: top;\n",
       "    }\n",
       "\n",
       "    .dataframe thead th {\n",
       "        text-align: right;\n",
       "    }\n",
       "</style>\n",
       "<table border=\"1\" class=\"dataframe\">\n",
       "  <thead>\n",
       "    <tr style=\"text-align: right;\">\n",
       "      <th></th>\n",
       "      <th>Disease</th>\n",
       "      <th>Symptom_1</th>\n",
       "      <th>Symptom_2</th>\n",
       "      <th>Symptom_3</th>\n",
       "      <th>Symptom_4</th>\n",
       "      <th>Symptom_5</th>\n",
       "      <th>Symptom_6</th>\n",
       "    </tr>\n",
       "  </thead>\n",
       "  <tbody>\n",
       "    <tr>\n",
       "      <th>0</th>\n",
       "      <td>Acne</td>\n",
       "      <td>skin rash</td>\n",
       "      <td>pus filled pimples</td>\n",
       "      <td>blackheads</td>\n",
       "      <td>scurring</td>\n",
       "      <td>NaN</td>\n",
       "      <td>NaN</td>\n",
       "    </tr>\n",
       "    <tr>\n",
       "      <th>1</th>\n",
       "      <td>Acne</td>\n",
       "      <td>pus filled pimples</td>\n",
       "      <td>blackheads</td>\n",
       "      <td>scurring</td>\n",
       "      <td>NaN</td>\n",
       "      <td>NaN</td>\n",
       "      <td>NaN</td>\n",
       "    </tr>\n",
       "    <tr>\n",
       "      <th>2</th>\n",
       "      <td>Acne</td>\n",
       "      <td>skin rash</td>\n",
       "      <td>blackheads</td>\n",
       "      <td>scurring</td>\n",
       "      <td>NaN</td>\n",
       "      <td>NaN</td>\n",
       "      <td>NaN</td>\n",
       "    </tr>\n",
       "    <tr>\n",
       "      <th>3</th>\n",
       "      <td>Acne</td>\n",
       "      <td>skin rash</td>\n",
       "      <td>pus filled pimples</td>\n",
       "      <td>scurring</td>\n",
       "      <td>NaN</td>\n",
       "      <td>NaN</td>\n",
       "      <td>NaN</td>\n",
       "    </tr>\n",
       "    <tr>\n",
       "      <th>4</th>\n",
       "      <td>Acne</td>\n",
       "      <td>skin rash</td>\n",
       "      <td>pus filled pimples</td>\n",
       "      <td>blackheads</td>\n",
       "      <td>NaN</td>\n",
       "      <td>NaN</td>\n",
       "      <td>NaN</td>\n",
       "    </tr>\n",
       "  </tbody>\n",
       "</table>\n",
       "</div>"
      ],
      "text/plain": [
       "  Disease           Symptom_1           Symptom_2   Symptom_3 Symptom_4  \\\n",
       "0    Acne           skin rash  pus filled pimples  blackheads  scurring   \n",
       "1    Acne  pus filled pimples          blackheads    scurring       NaN   \n",
       "2    Acne           skin rash          blackheads    scurring       NaN   \n",
       "3    Acne           skin rash  pus filled pimples    scurring       NaN   \n",
       "4    Acne           skin rash  pus filled pimples  blackheads       NaN   \n",
       "\n",
       "  Symptom_5 Symptom_6  \n",
       "0       NaN       NaN  \n",
       "1       NaN       NaN  \n",
       "2       NaN       NaN  \n",
       "3       NaN       NaN  \n",
       "4       NaN       NaN  "
      ]
     },
     "execution_count": 5,
     "metadata": {},
     "output_type": "execute_result"
    }
   ],
   "source": [
    "dp=dt.drop('Unnamed: 0',axis=1)\n",
    "dp.head()"
   ]
  },
  {
   "cell_type": "code",
   "execution_count": 6,
   "id": "207e1ef2",
   "metadata": {},
   "outputs": [],
   "source": [
    "dp.head()\n",
    "dp.to_csv('Dataset88.csv')"
   ]
  },
  {
   "cell_type": "code",
   "execution_count": 7,
   "id": "65d22474",
   "metadata": {},
   "outputs": [
    {
     "data": {
      "text/html": [
       "<div>\n",
       "<style scoped>\n",
       "    .dataframe tbody tr th:only-of-type {\n",
       "        vertical-align: middle;\n",
       "    }\n",
       "\n",
       "    .dataframe tbody tr th {\n",
       "        vertical-align: top;\n",
       "    }\n",
       "\n",
       "    .dataframe thead th {\n",
       "        text-align: right;\n",
       "    }\n",
       "</style>\n",
       "<table border=\"1\" class=\"dataframe\">\n",
       "  <thead>\n",
       "    <tr style=\"text-align: right;\">\n",
       "      <th></th>\n",
       "      <th>Disease</th>\n",
       "      <th>Precaution_1</th>\n",
       "      <th>Precaution_2</th>\n",
       "      <th>Precaution_3</th>\n",
       "      <th>Precaution_4</th>\n",
       "    </tr>\n",
       "  </thead>\n",
       "  <tbody>\n",
       "    <tr>\n",
       "      <th>11</th>\n",
       "      <td>Acne</td>\n",
       "      <td>bath twice</td>\n",
       "      <td>avoid fatty spicy food</td>\n",
       "      <td>drink plenty of water</td>\n",
       "      <td>avoid too many products</td>\n",
       "    </tr>\n",
       "    <tr>\n",
       "      <th>23</th>\n",
       "      <td>Aids</td>\n",
       "      <td>avoid open cuts</td>\n",
       "      <td>wear ppe if possible</td>\n",
       "      <td>consult doctor</td>\n",
       "      <td>follow up</td>\n",
       "    </tr>\n",
       "    <tr>\n",
       "      <th>31</th>\n",
       "      <td>Alcoholic</td>\n",
       "      <td>stop alcohol consumption</td>\n",
       "      <td>consult doctor</td>\n",
       "      <td>medication</td>\n",
       "      <td>follow up</td>\n",
       "    </tr>\n",
       "    <tr>\n",
       "      <th>2</th>\n",
       "      <td>Allergy</td>\n",
       "      <td>apply calamine</td>\n",
       "      <td>cover area with bandage</td>\n",
       "      <td>NaN</td>\n",
       "      <td>use ice to compress itching</td>\n",
       "    </tr>\n",
       "    <tr>\n",
       "      <th>38</th>\n",
       "      <td>Arthritis</td>\n",
       "      <td>exercise</td>\n",
       "      <td>use hot and cold therapy</td>\n",
       "      <td>try acupuncture</td>\n",
       "      <td>massage</td>\n",
       "    </tr>\n",
       "  </tbody>\n",
       "</table>\n",
       "</div>"
      ],
      "text/plain": [
       "      Disease              Precaution_1              Precaution_2  \\\n",
       "11       Acne                bath twice    avoid fatty spicy food   \n",
       "23       Aids           avoid open cuts      wear ppe if possible   \n",
       "31  Alcoholic  stop alcohol consumption            consult doctor   \n",
       "2     Allergy            apply calamine   cover area with bandage   \n",
       "38  Arthritis                  exercise  use hot and cold therapy   \n",
       "\n",
       "             Precaution_3                 Precaution_4  \n",
       "11  drink plenty of water      avoid too many products  \n",
       "23         consult doctor                    follow up  \n",
       "31             medication                    follow up  \n",
       "2                     NaN  use ice to compress itching  \n",
       "38        try acupuncture                      massage  "
      ]
     },
     "execution_count": 7,
     "metadata": {},
     "output_type": "execute_result"
    }
   ],
   "source": [
    "ds=pd.read_csv('symptom_precaution.csv')\n",
    "ds['Disease']= ds['Disease'].str.split().str.get(0).str.replace('(','')\n",
    "ds['Disease']= ds['Disease'].str.split().str.get(0).str.replace(')','')\n",
    "ds['Disease']=(ds['Disease'].str.capitalize())\n",
    "ds=ds.sort_values(by='Disease')\n",
    "ds.head()"
   ]
  },
  {
   "cell_type": "code",
   "execution_count": 8,
   "id": "2022703d",
   "metadata": {},
   "outputs": [
    {
     "data": {
      "text/html": [
       "<div>\n",
       "<style scoped>\n",
       "    .dataframe tbody tr th:only-of-type {\n",
       "        vertical-align: middle;\n",
       "    }\n",
       "\n",
       "    .dataframe tbody tr th {\n",
       "        vertical-align: top;\n",
       "    }\n",
       "\n",
       "    .dataframe thead th {\n",
       "        text-align: right;\n",
       "    }\n",
       "</style>\n",
       "<table border=\"1\" class=\"dataframe\">\n",
       "  <thead>\n",
       "    <tr style=\"text-align: right;\">\n",
       "      <th></th>\n",
       "      <th>Disease</th>\n",
       "      <th>Precaution_1</th>\n",
       "      <th>Precaution_2</th>\n",
       "      <th>Precaution_3</th>\n",
       "      <th>Precaution_4</th>\n",
       "    </tr>\n",
       "  </thead>\n",
       "  <tbody>\n",
       "    <tr>\n",
       "      <th>0</th>\n",
       "      <td>Acne</td>\n",
       "      <td>bath twice</td>\n",
       "      <td>avoid fatty spicy food</td>\n",
       "      <td>drink plenty of water</td>\n",
       "      <td>avoid too many products</td>\n",
       "    </tr>\n",
       "    <tr>\n",
       "      <th>1</th>\n",
       "      <td>Aids</td>\n",
       "      <td>avoid open cuts</td>\n",
       "      <td>wear ppe if possible</td>\n",
       "      <td>consult doctor</td>\n",
       "      <td>follow up</td>\n",
       "    </tr>\n",
       "    <tr>\n",
       "      <th>2</th>\n",
       "      <td>Alcoholic</td>\n",
       "      <td>stop alcohol consumption</td>\n",
       "      <td>consult doctor</td>\n",
       "      <td>medication</td>\n",
       "      <td>follow up</td>\n",
       "    </tr>\n",
       "    <tr>\n",
       "      <th>3</th>\n",
       "      <td>Allergy</td>\n",
       "      <td>apply calamine</td>\n",
       "      <td>cover area with bandage</td>\n",
       "      <td>NaN</td>\n",
       "      <td>use ice to compress itching</td>\n",
       "    </tr>\n",
       "    <tr>\n",
       "      <th>4</th>\n",
       "      <td>Arthritis</td>\n",
       "      <td>exercise</td>\n",
       "      <td>use hot and cold therapy</td>\n",
       "      <td>try acupuncture</td>\n",
       "      <td>massage</td>\n",
       "    </tr>\n",
       "  </tbody>\n",
       "</table>\n",
       "</div>"
      ],
      "text/plain": [
       "     Disease              Precaution_1              Precaution_2  \\\n",
       "0       Acne                bath twice    avoid fatty spicy food   \n",
       "1       Aids           avoid open cuts      wear ppe if possible   \n",
       "2  Alcoholic  stop alcohol consumption            consult doctor   \n",
       "3    Allergy            apply calamine   cover area with bandage   \n",
       "4  Arthritis                  exercise  use hot and cold therapy   \n",
       "\n",
       "            Precaution_3                 Precaution_4  \n",
       "0  drink plenty of water      avoid too many products  \n",
       "1         consult doctor                    follow up  \n",
       "2             medication                    follow up  \n",
       "3                    NaN  use ice to compress itching  \n",
       "4        try acupuncture                      massage  "
      ]
     },
     "execution_count": 8,
     "metadata": {},
     "output_type": "execute_result"
    }
   ],
   "source": [
    "ds.to_csv('precaution_final1.csv')\n",
    "ds=pd.read_csv('precaution_final1.csv')\n",
    "dk=ds.drop('Unnamed: 0',axis=1)\n",
    "dk.head()\n"
   ]
  },
  {
   "cell_type": "code",
   "execution_count": 9,
   "id": "5c4563b4",
   "metadata": {},
   "outputs": [],
   "source": [
    "dk.head()\n",
    "dk.to_csv('precaution99.csv')"
   ]
  },
  {
   "cell_type": "code",
   "execution_count": 10,
   "id": "6b1e0039",
   "metadata": {},
   "outputs": [],
   "source": [
    "du=pd.read_csv('symptom_Description.csv')\n",
    "du['Disease']= du['Disease'].str.split().str.get(0).str.replace('(','')\n",
    "du['Disease']= du['Disease'].str.split().str.get(0).str.replace(')','')\n",
    "du['Disease']=(du['Disease'].str.capitalize())"
   ]
  },
  {
   "cell_type": "code",
   "execution_count": 11,
   "id": "c1084437",
   "metadata": {},
   "outputs": [
    {
     "data": {
      "text/html": [
       "<div>\n",
       "<style scoped>\n",
       "    .dataframe tbody tr th:only-of-type {\n",
       "        vertical-align: middle;\n",
       "    }\n",
       "\n",
       "    .dataframe tbody tr th {\n",
       "        vertical-align: top;\n",
       "    }\n",
       "\n",
       "    .dataframe thead th {\n",
       "        text-align: right;\n",
       "    }\n",
       "</style>\n",
       "<table border=\"1\" class=\"dataframe\">\n",
       "  <thead>\n",
       "    <tr style=\"text-align: right;\">\n",
       "      <th></th>\n",
       "      <th>Disease</th>\n",
       "      <th>Description</th>\n",
       "    </tr>\n",
       "  </thead>\n",
       "  <tbody>\n",
       "    <tr>\n",
       "      <th>0</th>\n",
       "      <td>Drug</td>\n",
       "      <td>An adverse drug reaction (ADR) is an injury ca...</td>\n",
       "    </tr>\n",
       "    <tr>\n",
       "      <th>1</th>\n",
       "      <td>Malaria</td>\n",
       "      <td>An infectious disease caused by protozoan para...</td>\n",
       "    </tr>\n",
       "    <tr>\n",
       "      <th>2</th>\n",
       "      <td>Allergy</td>\n",
       "      <td>An allergy is an immune system response to a f...</td>\n",
       "    </tr>\n",
       "    <tr>\n",
       "      <th>3</th>\n",
       "      <td>Hypothyroidism</td>\n",
       "      <td>Hypothyroidism, also called underactive thyroi...</td>\n",
       "    </tr>\n",
       "    <tr>\n",
       "      <th>4</th>\n",
       "      <td>Psoriasis</td>\n",
       "      <td>Psoriasis is a common skin disorder that forms...</td>\n",
       "    </tr>\n",
       "  </tbody>\n",
       "</table>\n",
       "</div>"
      ],
      "text/plain": [
       "          Disease                                        Description\n",
       "0            Drug  An adverse drug reaction (ADR) is an injury ca...\n",
       "1         Malaria  An infectious disease caused by protozoan para...\n",
       "2         Allergy  An allergy is an immune system response to a f...\n",
       "3  Hypothyroidism  Hypothyroidism, also called underactive thyroi...\n",
       "4       Psoriasis  Psoriasis is a common skin disorder that forms..."
      ]
     },
     "execution_count": 11,
     "metadata": {},
     "output_type": "execute_result"
    }
   ],
   "source": [
    "du.head()"
   ]
  },
  {
   "cell_type": "code",
   "execution_count": 12,
   "id": "c7d159c1",
   "metadata": {},
   "outputs": [
    {
     "data": {
      "text/html": [
       "<div>\n",
       "<style scoped>\n",
       "    .dataframe tbody tr th:only-of-type {\n",
       "        vertical-align: middle;\n",
       "    }\n",
       "\n",
       "    .dataframe tbody tr th {\n",
       "        vertical-align: top;\n",
       "    }\n",
       "\n",
       "    .dataframe thead th {\n",
       "        text-align: right;\n",
       "    }\n",
       "</style>\n",
       "<table border=\"1\" class=\"dataframe\">\n",
       "  <thead>\n",
       "    <tr style=\"text-align: right;\">\n",
       "      <th></th>\n",
       "      <th>Disease</th>\n",
       "      <th>Description</th>\n",
       "    </tr>\n",
       "  </thead>\n",
       "  <tbody>\n",
       "    <tr>\n",
       "      <th>11</th>\n",
       "      <td>Acne</td>\n",
       "      <td>Acne vulgaris is the formation of comedones, p...</td>\n",
       "    </tr>\n",
       "    <tr>\n",
       "      <th>23</th>\n",
       "      <td>Aids</td>\n",
       "      <td>Acquired immunodeficiency syndrome (AIDS) is a...</td>\n",
       "    </tr>\n",
       "    <tr>\n",
       "      <th>31</th>\n",
       "      <td>Alcoholic</td>\n",
       "      <td>Alcoholic hepatitis is a diseased, inflammator...</td>\n",
       "    </tr>\n",
       "    <tr>\n",
       "      <th>2</th>\n",
       "      <td>Allergy</td>\n",
       "      <td>An allergy is an immune system response to a f...</td>\n",
       "    </tr>\n",
       "    <tr>\n",
       "      <th>38</th>\n",
       "      <td>Arthritis</td>\n",
       "      <td>Arthritis is the swelling and tenderness of on...</td>\n",
       "    </tr>\n",
       "  </tbody>\n",
       "</table>\n",
       "</div>"
      ],
      "text/plain": [
       "      Disease                                        Description\n",
       "11       Acne  Acne vulgaris is the formation of comedones, p...\n",
       "23       Aids  Acquired immunodeficiency syndrome (AIDS) is a...\n",
       "31  Alcoholic  Alcoholic hepatitis is a diseased, inflammator...\n",
       "2     Allergy  An allergy is an immune system response to a f...\n",
       "38  Arthritis  Arthritis is the swelling and tenderness of on..."
      ]
     },
     "execution_count": 12,
     "metadata": {},
     "output_type": "execute_result"
    }
   ],
   "source": [
    "du=du.sort_values(by='Disease')\n",
    "du.head()"
   ]
  },
  {
   "cell_type": "code",
   "execution_count": 13,
   "id": "0c115ba4",
   "metadata": {},
   "outputs": [
    {
     "data": {
      "text/html": [
       "<div>\n",
       "<style scoped>\n",
       "    .dataframe tbody tr th:only-of-type {\n",
       "        vertical-align: middle;\n",
       "    }\n",
       "\n",
       "    .dataframe tbody tr th {\n",
       "        vertical-align: top;\n",
       "    }\n",
       "\n",
       "    .dataframe thead th {\n",
       "        text-align: right;\n",
       "    }\n",
       "</style>\n",
       "<table border=\"1\" class=\"dataframe\">\n",
       "  <thead>\n",
       "    <tr style=\"text-align: right;\">\n",
       "      <th></th>\n",
       "      <th>Unnamed: 0</th>\n",
       "      <th>Disease</th>\n",
       "      <th>Description</th>\n",
       "    </tr>\n",
       "  </thead>\n",
       "  <tbody>\n",
       "    <tr>\n",
       "      <th>0</th>\n",
       "      <td>11</td>\n",
       "      <td>Acne</td>\n",
       "      <td>Acne vulgaris is the formation of comedones, p...</td>\n",
       "    </tr>\n",
       "    <tr>\n",
       "      <th>1</th>\n",
       "      <td>23</td>\n",
       "      <td>Aids</td>\n",
       "      <td>Acquired immunodeficiency syndrome (AIDS) is a...</td>\n",
       "    </tr>\n",
       "    <tr>\n",
       "      <th>2</th>\n",
       "      <td>31</td>\n",
       "      <td>Alcoholic</td>\n",
       "      <td>Alcoholic hepatitis is a diseased, inflammator...</td>\n",
       "    </tr>\n",
       "    <tr>\n",
       "      <th>3</th>\n",
       "      <td>2</td>\n",
       "      <td>Allergy</td>\n",
       "      <td>An allergy is an immune system response to a f...</td>\n",
       "    </tr>\n",
       "    <tr>\n",
       "      <th>4</th>\n",
       "      <td>38</td>\n",
       "      <td>Arthritis</td>\n",
       "      <td>Arthritis is the swelling and tenderness of on...</td>\n",
       "    </tr>\n",
       "  </tbody>\n",
       "</table>\n",
       "</div>"
      ],
      "text/plain": [
       "   Unnamed: 0    Disease                                        Description\n",
       "0          11       Acne  Acne vulgaris is the formation of comedones, p...\n",
       "1          23       Aids  Acquired immunodeficiency syndrome (AIDS) is a...\n",
       "2          31  Alcoholic  Alcoholic hepatitis is a diseased, inflammator...\n",
       "3           2    Allergy  An allergy is an immune system response to a f...\n",
       "4          38  Arthritis  Arthritis is the swelling and tenderness of on..."
      ]
     },
     "execution_count": 13,
     "metadata": {},
     "output_type": "execute_result"
    }
   ],
   "source": [
    "du.to_csv('__Description_final1.csv')\n",
    "du=pd.read_csv('__Description_final1.csv')\n",
    "du.head()"
   ]
  },
  {
   "cell_type": "code",
   "execution_count": 14,
   "id": "25d92324",
   "metadata": {},
   "outputs": [
    {
     "data": {
      "text/html": [
       "<div>\n",
       "<style scoped>\n",
       "    .dataframe tbody tr th:only-of-type {\n",
       "        vertical-align: middle;\n",
       "    }\n",
       "\n",
       "    .dataframe tbody tr th {\n",
       "        vertical-align: top;\n",
       "    }\n",
       "\n",
       "    .dataframe thead th {\n",
       "        text-align: right;\n",
       "    }\n",
       "</style>\n",
       "<table border=\"1\" class=\"dataframe\">\n",
       "  <thead>\n",
       "    <tr style=\"text-align: right;\">\n",
       "      <th></th>\n",
       "      <th>Disease</th>\n",
       "      <th>Description</th>\n",
       "    </tr>\n",
       "  </thead>\n",
       "  <tbody>\n",
       "    <tr>\n",
       "      <th>0</th>\n",
       "      <td>Acne</td>\n",
       "      <td>Acne vulgaris is the formation of comedones, p...</td>\n",
       "    </tr>\n",
       "    <tr>\n",
       "      <th>1</th>\n",
       "      <td>Aids</td>\n",
       "      <td>Acquired immunodeficiency syndrome (AIDS) is a...</td>\n",
       "    </tr>\n",
       "    <tr>\n",
       "      <th>2</th>\n",
       "      <td>Alcoholic</td>\n",
       "      <td>Alcoholic hepatitis is a diseased, inflammator...</td>\n",
       "    </tr>\n",
       "    <tr>\n",
       "      <th>3</th>\n",
       "      <td>Allergy</td>\n",
       "      <td>An allergy is an immune system response to a f...</td>\n",
       "    </tr>\n",
       "    <tr>\n",
       "      <th>4</th>\n",
       "      <td>Arthritis</td>\n",
       "      <td>Arthritis is the swelling and tenderness of on...</td>\n",
       "    </tr>\n",
       "  </tbody>\n",
       "</table>\n",
       "</div>"
      ],
      "text/plain": [
       "     Disease                                        Description\n",
       "0       Acne  Acne vulgaris is the formation of comedones, p...\n",
       "1       Aids  Acquired immunodeficiency syndrome (AIDS) is a...\n",
       "2  Alcoholic  Alcoholic hepatitis is a diseased, inflammator...\n",
       "3    Allergy  An allergy is an immune system response to a f...\n",
       "4  Arthritis  Arthritis is the swelling and tenderness of on..."
      ]
     },
     "execution_count": 14,
     "metadata": {},
     "output_type": "execute_result"
    }
   ],
   "source": [
    "do=du.drop('Unnamed: 0',axis=1)\n",
    "do.head()"
   ]
  },
  {
   "cell_type": "code",
   "execution_count": 15,
   "id": "993c6546",
   "metadata": {},
   "outputs": [],
   "source": [
    "do.to_csv('description77.csv')"
   ]
  },
  {
   "cell_type": "code",
   "execution_count": 16,
   "id": "38dc9647",
   "metadata": {},
   "outputs": [
    {
     "data": {
      "text/plain": [
       "'Acne'"
      ]
     },
     "execution_count": 16,
     "metadata": {},
     "output_type": "execute_result"
    }
   ],
   "source": [
    "g= dt['Disease'].unique()\n",
    "g[0]"
   ]
  },
  {
   "cell_type": "code",
   "execution_count": 17,
   "id": "fa8b9c54",
   "metadata": {},
   "outputs": [],
   "source": [
    "from sklearn.pipeline import Pipeline,make_pipeline\n",
    "from sklearn.preprocessing import OneHotEncoder\n",
    "from sklearn.compose import make_column_transformer\n",
    "from sklearn.tree import DecisionTreeRegressor\n",
    "from sklearn.compose import ColumnTransformer\n",
    "from sklearn.preprocessing import LabelEncoder\n"
   ]
  },
  {
   "cell_type": "code",
   "execution_count": 18,
   "id": "6179d4a0",
   "metadata": {},
   "outputs": [],
   "source": [
    "dp=dt.drop('Unnamed: 0',axis=1)"
   ]
  },
  {
   "cell_type": "code",
   "execution_count": 19,
   "id": "55480ee6",
   "metadata": {},
   "outputs": [],
   "source": [
    "le = LabelEncoder()\n",
    "lab= le.fit_transform(dp['Disease'])"
   ]
  },
  {
   "cell_type": "code",
   "execution_count": 20,
   "id": "5f577015",
   "metadata": {},
   "outputs": [],
   "source": [
    "dp.drop(\"Disease\",axis=1,inplace=True)"
   ]
  },
  {
   "cell_type": "code",
   "execution_count": 21,
   "id": "93415e41",
   "metadata": {},
   "outputs": [],
   "source": [
    "dp[\"Disease\"]=lab"
   ]
  },
  {
   "cell_type": "code",
   "execution_count": 22,
   "id": "264a7320",
   "metadata": {},
   "outputs": [],
   "source": [
    "dp = dp.replace(np.NaN, 'no')"
   ]
  },
  {
   "cell_type": "code",
   "execution_count": 23,
   "id": "f763f0a1",
   "metadata": {},
   "outputs": [],
   "source": [
    "x=dp.drop(columns='Disease')\n",
    "y=dp['Disease']"
   ]
  },
  {
   "cell_type": "code",
   "execution_count": 24,
   "id": "cf03adfe",
   "metadata": {},
   "outputs": [
    {
     "data": {
      "text/html": [
       "<div>\n",
       "<style scoped>\n",
       "    .dataframe tbody tr th:only-of-type {\n",
       "        vertical-align: middle;\n",
       "    }\n",
       "\n",
       "    .dataframe tbody tr th {\n",
       "        vertical-align: top;\n",
       "    }\n",
       "\n",
       "    .dataframe thead th {\n",
       "        text-align: right;\n",
       "    }\n",
       "</style>\n",
       "<table border=\"1\" class=\"dataframe\">\n",
       "  <thead>\n",
       "    <tr style=\"text-align: right;\">\n",
       "      <th></th>\n",
       "      <th>Symptom_1</th>\n",
       "      <th>Symptom_2</th>\n",
       "      <th>Symptom_3</th>\n",
       "      <th>Symptom_4</th>\n",
       "      <th>Symptom_5</th>\n",
       "      <th>Symptom_6</th>\n",
       "      <th>Disease</th>\n",
       "    </tr>\n",
       "  </thead>\n",
       "  <tbody>\n",
       "    <tr>\n",
       "      <th>3920</th>\n",
       "      <td>vomiting</td>\n",
       "      <td>headache</td>\n",
       "      <td>weakness of one body side</td>\n",
       "      <td>altered sensorium</td>\n",
       "      <td>no</td>\n",
       "      <td>no</td>\n",
       "      <td>28</td>\n",
       "    </tr>\n",
       "    <tr>\n",
       "      <th>3921</th>\n",
       "      <td>vomiting</td>\n",
       "      <td>headache</td>\n",
       "      <td>weakness of one body side</td>\n",
       "      <td>altered sensorium</td>\n",
       "      <td>no</td>\n",
       "      <td>no</td>\n",
       "      <td>28</td>\n",
       "    </tr>\n",
       "    <tr>\n",
       "      <th>3922</th>\n",
       "      <td>vomiting</td>\n",
       "      <td>headache</td>\n",
       "      <td>altered sensorium</td>\n",
       "      <td>no</td>\n",
       "      <td>no</td>\n",
       "      <td>no</td>\n",
       "      <td>28</td>\n",
       "    </tr>\n",
       "    <tr>\n",
       "      <th>3923</th>\n",
       "      <td>vomiting</td>\n",
       "      <td>headache</td>\n",
       "      <td>weakness of one body side</td>\n",
       "      <td>altered sensorium</td>\n",
       "      <td>no</td>\n",
       "      <td>no</td>\n",
       "      <td>28</td>\n",
       "    </tr>\n",
       "    <tr>\n",
       "      <th>3924</th>\n",
       "      <td>vomiting</td>\n",
       "      <td>headache</td>\n",
       "      <td>weakness of one body side</td>\n",
       "      <td>altered sensorium</td>\n",
       "      <td>no</td>\n",
       "      <td>no</td>\n",
       "      <td>28</td>\n",
       "    </tr>\n",
       "    <tr>\n",
       "      <th>...</th>\n",
       "      <td>...</td>\n",
       "      <td>...</td>\n",
       "      <td>...</td>\n",
       "      <td>...</td>\n",
       "      <td>...</td>\n",
       "      <td>...</td>\n",
       "      <td>...</td>\n",
       "    </tr>\n",
       "    <tr>\n",
       "      <th>4915</th>\n",
       "      <td>fatigue</td>\n",
       "      <td>cramps</td>\n",
       "      <td>bruising</td>\n",
       "      <td>obesity</td>\n",
       "      <td>swollen legs</td>\n",
       "      <td>swollen blood vessels</td>\n",
       "      <td>36</td>\n",
       "    </tr>\n",
       "    <tr>\n",
       "      <th>4916</th>\n",
       "      <td>fatigue</td>\n",
       "      <td>cramps</td>\n",
       "      <td>obesity</td>\n",
       "      <td>swollen legs</td>\n",
       "      <td>swollen blood vessels</td>\n",
       "      <td>prominent veins on calf</td>\n",
       "      <td>36</td>\n",
       "    </tr>\n",
       "    <tr>\n",
       "      <th>4917</th>\n",
       "      <td>fatigue</td>\n",
       "      <td>cramps</td>\n",
       "      <td>bruising</td>\n",
       "      <td>swollen legs</td>\n",
       "      <td>swollen blood vessels</td>\n",
       "      <td>prominent veins on calf</td>\n",
       "      <td>36</td>\n",
       "    </tr>\n",
       "    <tr>\n",
       "      <th>4918</th>\n",
       "      <td>fatigue</td>\n",
       "      <td>cramps</td>\n",
       "      <td>bruising</td>\n",
       "      <td>obesity</td>\n",
       "      <td>swollen legs</td>\n",
       "      <td>prominent veins on calf</td>\n",
       "      <td>36</td>\n",
       "    </tr>\n",
       "    <tr>\n",
       "      <th>4919</th>\n",
       "      <td>fatigue</td>\n",
       "      <td>cramps</td>\n",
       "      <td>bruising</td>\n",
       "      <td>obesity</td>\n",
       "      <td>swollen legs</td>\n",
       "      <td>swollen blood vessels</td>\n",
       "      <td>36</td>\n",
       "    </tr>\n",
       "  </tbody>\n",
       "</table>\n",
       "<p>1000 rows × 7 columns</p>\n",
       "</div>"
      ],
      "text/plain": [
       "     Symptom_1 Symptom_2                  Symptom_3          Symptom_4  \\\n",
       "3920  vomiting  headache  weakness of one body side  altered sensorium   \n",
       "3921  vomiting  headache  weakness of one body side  altered sensorium   \n",
       "3922  vomiting  headache          altered sensorium                 no   \n",
       "3923  vomiting  headache  weakness of one body side  altered sensorium   \n",
       "3924  vomiting  headache  weakness of one body side  altered sensorium   \n",
       "...        ...       ...                        ...                ...   \n",
       "4915   fatigue    cramps                   bruising            obesity   \n",
       "4916   fatigue    cramps                    obesity       swollen legs   \n",
       "4917   fatigue    cramps                   bruising       swollen legs   \n",
       "4918   fatigue    cramps                   bruising            obesity   \n",
       "4919   fatigue    cramps                   bruising            obesity   \n",
       "\n",
       "                  Symptom_5                Symptom_6  Disease  \n",
       "3920                     no                       no       28  \n",
       "3921                     no                       no       28  \n",
       "3922                     no                       no       28  \n",
       "3923                     no                       no       28  \n",
       "3924                     no                       no       28  \n",
       "...                     ...                      ...      ...  \n",
       "4915           swollen legs    swollen blood vessels       36  \n",
       "4916  swollen blood vessels  prominent veins on calf       36  \n",
       "4917  swollen blood vessels  prominent veins on calf       36  \n",
       "4918           swollen legs  prominent veins on calf       36  \n",
       "4919           swollen legs    swollen blood vessels       36  \n",
       "\n",
       "[1000 rows x 7 columns]"
      ]
     },
     "execution_count": 24,
     "metadata": {},
     "output_type": "execute_result"
    }
   ],
   "source": [
    "dp.tail(1000)"
   ]
  },
  {
   "cell_type": "code",
   "execution_count": 25,
   "id": "e3680e79",
   "metadata": {},
   "outputs": [],
   "source": [
    "from sklearn.model_selection import train_test_split\n",
    "x_train,x_test,y_train,y_test= train_test_split(x,y,test_size=0.3, random_state =0)"
   ]
  },
  {
   "cell_type": "code",
   "execution_count": 26,
   "id": "a8cbc837",
   "metadata": {},
   "outputs": [
    {
     "data": {
      "text/plain": [
       "OneHotEncoder()"
      ]
     },
     "execution_count": 26,
     "metadata": {},
     "output_type": "execute_result"
    }
   ],
   "source": [
    "ohe= OneHotEncoder()\n",
    "ohe.fit(dp[['Symptom_1','Symptom_2','Symptom_3','Symptom_4','Symptom_5','Symptom_6']])"
   ]
  },
  {
   "cell_type": "code",
   "execution_count": 27,
   "id": "bdb6fe49",
   "metadata": {},
   "outputs": [],
   "source": [
    "#ct=make_column_transformer((OneHotEncoder(sparse=False),[[0],[1],[2],[3],[4],[5],[6]]),remainder='passthrough')\n",
    "ct=make_column_transformer((OneHotEncoder(sparse=False),['Symptom_1','Symptom_2','Symptom_3','Symptom_4','Symptom_5','Symptom_6']),remainder='passthrough')\n",
    "dtr=DecisionTreeRegressor()"
   ]
  },
  {
   "cell_type": "code",
   "execution_count": 28,
   "id": "b1250895",
   "metadata": {},
   "outputs": [],
   "source": [
    "pipe = make_pipeline(ct,dtr)"
   ]
  },
  {
   "cell_type": "code",
   "execution_count": 29,
   "id": "d332046e",
   "metadata": {},
   "outputs": [
    {
     "data": {
      "text/plain": [
       "Pipeline(steps=[('columntransformer',\n",
       "                 ColumnTransformer(remainder='passthrough',\n",
       "                                   transformers=[('onehotencoder',\n",
       "                                                  OneHotEncoder(sparse=False),\n",
       "                                                  ['Symptom_1', 'Symptom_2',\n",
       "                                                   'Symptom_3', 'Symptom_4',\n",
       "                                                   'Symptom_5',\n",
       "                                                   'Symptom_6'])])),\n",
       "                ('decisiontreeregressor', DecisionTreeRegressor())])"
      ]
     },
     "execution_count": 29,
     "metadata": {},
     "output_type": "execute_result"
    }
   ],
   "source": [
    "pipe.fit(x_train,y_train)"
   ]
  },
  {
   "cell_type": "code",
   "execution_count": 30,
   "id": "94ac91ef",
   "metadata": {},
   "outputs": [
    {
     "data": {
      "text/plain": [
       "1.0"
      ]
     },
     "execution_count": 30,
     "metadata": {},
     "output_type": "execute_result"
    }
   ],
   "source": [
    "y_pred = pipe.predict(x_test)\n",
    "from sklearn.metrics import r2_score\n",
    "r2_score(y_test,y_pred)"
   ]
  },
  {
   "cell_type": "code",
   "execution_count": 31,
   "id": "95783215",
   "metadata": {},
   "outputs": [],
   "source": [
    "s1 = input(\"s1\")\n",
    "s2 = input(\"s2\")\n",
    "s3 = input(\"s3\")\n",
    "s4 = input(\"s4\")\n",
    "s5 = input(\"s5\")\n",
    "s6 = input(\"s6\")\n",
    "data=np.array([s1,s2,s3,s4,s5,s6])"
   ]
  },
  {
   "cell_type": "code",
   "execution_count": 32,
   "id": "b117a463",
   "metadata": {},
   "outputs": [],
   "source": [
    "k=pipe.predict(pd.DataFrame([data],columns= ['Symptom_1','Symptom_2','Symptom_3','Symptom_4','Symptom_5','Symptom_6']))"
   ]
  },
  {
   "cell_type": "code",
   "execution_count": 33,
   "id": "d2331c67",
   "metadata": {},
   "outputs": [],
   "source": [
    "x=k.item()"
   ]
  },
  {
   "cell_type": "code",
   "execution_count": 34,
   "id": "e45b2fa2",
   "metadata": {},
   "outputs": [],
   "source": [
    "pr= pd.read_csv('Description77.csv')"
   ]
  },
  {
   "cell_type": "code",
   "execution_count": 35,
   "id": "533707e3",
   "metadata": {},
   "outputs": [],
   "source": [
    "LE = LabelEncoder()\n",
    "pr['Disease']= LE.fit_transform(pr['Disease'])"
   ]
  },
  {
   "cell_type": "code",
   "execution_count": 36,
   "id": "a23da8c0",
   "metadata": {},
   "outputs": [],
   "source": [
    "for i in range(0,41):\n",
    "    if k== pr.Disease[i]:\n",
    "        k2=pr.Description[i]\n",
    "    "
   ]
  },
  {
   "cell_type": "code",
   "execution_count": 38,
   "id": "b008246f",
   "metadata": {},
   "outputs": [],
   "source": [
    "kr= pd.read_csv('precaution99.csv')"
   ]
  },
  {
   "cell_type": "code",
   "execution_count": 39,
   "id": "e2c4ec63",
   "metadata": {},
   "outputs": [],
   "source": [
    "ke = LabelEncoder()\n",
    "kr['Disease']= ke.fit_transform(kr['Disease'])"
   ]
  },
  {
   "cell_type": "code",
   "execution_count": 40,
   "id": "f84ffe7f",
   "metadata": {},
   "outputs": [],
   "source": [
    "for i in range(0,41):\n",
    "    if k== kr.Disease[i]:\n",
    "        k1=[ kr.Precaution_1[i],kr.Precaution_2[i],kr.Precaution_3[i],kr.Precaution_4[i]]"
   ]
  },
  {
   "cell_type": "code",
   "execution_count": 41,
   "id": "2f89dc52",
   "metadata": {},
   "outputs": [
    {
     "name": "stdout",
     "output_type": "stream",
     "text": [
      "Disease : Paralysis\n",
      "\n",
      "Description : Intracerebral hemorrhage (ICH) is when blood suddenly bursts into brain tissue, causing damage to your brain. Symptoms usually appear suddenly during ICH. They include headache, weakness, confusion, and paralysis, particularly on one side of your body.\n",
      "\n",
      "precaution : ['massage', 'eat healthy', 'exercise', 'consult doctor']\n"
     ]
    }
   ],
   "source": [
    "print(f'Disease : {g[int(x)]}')\n",
    "print()\n",
    "print(f'Description : {k2}')\n",
    "print()\n",
    "print(f'precaution : {k1}')"
   ]
  },
  {
   "cell_type": "code",
   "execution_count": 42,
   "id": "fd23bdbb",
   "metadata": {},
   "outputs": [],
   "source": [
    "import pickle\n",
    "pickle.dump(pipe,open('gpred.pkl','wb'))"
   ]
  },
  {
   "cell_type": "code",
   "execution_count": 43,
   "id": "86609481",
   "metadata": {},
   "outputs": [
    {
     "name": "stdout",
     "output_type": "stream",
     "text": [
      "Requirement already satisfied: flask in c:\\users\\ganesh\\anaconda3\\lib\\site-packages (1.1.2)\n",
      "Requirement already satisfied: Jinja2>=2.10.1 in c:\\users\\ganesh\\anaconda3\\lib\\site-packages (from flask) (2.11.3)\n",
      "Requirement already satisfied: Werkzeug>=0.15 in c:\\users\\ganesh\\anaconda3\\lib\\site-packages (from flask) (2.0.3)\n",
      "Requirement already satisfied: itsdangerous>=0.24 in c:\\users\\ganesh\\anaconda3\\lib\\site-packages (from flask) (2.0.1)\n",
      "Requirement already satisfied: click>=5.1 in c:\\users\\ganesh\\anaconda3\\lib\\site-packages (from flask) (8.0.4)\n",
      "Requirement already satisfied: colorama in c:\\users\\ganesh\\anaconda3\\lib\\site-packages (from click>=5.1->flask) (0.4.4)\n",
      "Requirement already satisfied: MarkupSafe>=0.23 in c:\\users\\ganesh\\anaconda3\\lib\\site-packages (from Jinja2>=2.10.1->flask) (2.0.1)\n"
     ]
    }
   ],
   "source": [
    "!pip install flask"
   ]
  },
  {
   "cell_type": "code",
   "execution_count": null,
   "id": "76d5871c",
   "metadata": {},
   "outputs": [],
   "source": []
  },
  {
   "cell_type": "code",
   "execution_count": null,
   "id": "dc842787",
   "metadata": {},
   "outputs": [],
   "source": []
  },
  {
   "cell_type": "code",
   "execution_count": null,
   "id": "06606736",
   "metadata": {},
   "outputs": [],
   "source": []
  },
  {
   "cell_type": "code",
   "execution_count": null,
   "id": "77fc7543",
   "metadata": {},
   "outputs": [],
   "source": []
  }
 ],
 "metadata": {
  "kernelspec": {
   "display_name": "Python 3 (ipykernel)",
   "language": "python",
   "name": "python3"
  },
  "language_info": {
   "codemirror_mode": {
    "name": "ipython",
    "version": 3
   },
   "file_extension": ".py",
   "mimetype": "text/x-python",
   "name": "python",
   "nbconvert_exporter": "python",
   "pygments_lexer": "ipython3",
   "version": "3.9.12"
  },
  "vscode": {
   "interpreter": {
    "hash": "1be8c34a09d412c1d9b6ef1b6ab95f015d5ed222752c4ec2bdcebf7324bb6687"
   }
  }
 },
 "nbformat": 4,
 "nbformat_minor": 5
}
